{
 "cells": [
  {
   "cell_type": "markdown",
   "id": "cde9033b",
   "metadata": {},
   "source": [
    "# Optimal lakansvikning"
   ]
  },
  {
   "cell_type": "code",
   "execution_count": 1,
   "id": "96799049",
   "metadata": {},
   "outputs": [],
   "source": [
    "from sheetfolding import SheetFolder"
   ]
  },
  {
   "cell_type": "markdown",
   "id": "0f774c33",
   "metadata": {},
   "source": [
    "## Gäst- och tv-rum"
   ]
  },
  {
   "cell_type": "code",
   "execution_count": 2,
   "id": "58e18edd",
   "metadata": {},
   "outputs": [
    {
     "name": "stdout",
     "output_type": "stream",
     "text": [
      "Drawer: (57, 23)  Folds: [2, 3]\n"
     ]
    }
   ],
   "source": [
    "drawer = (57, 23)\n",
    "my_folds = [2, 3]\n",
    "guestroom_folder = SheetFolder(drawer, my_folds)\n",
    "print(guestroom_folder)"
   ]
  },
  {
   "cell_type": "code",
   "execution_count": 3,
   "id": "5b8560d7",
   "metadata": {},
   "outputs": [
    {
     "name": "stdout",
     "output_type": "stream",
     "text": [
      "Fold 250.0 --> [2, 2, 3] --> 20.8 (12 layers)\n",
      "Fold 160.0 --> [3] --> 53.3 (3 layers)\n",
      "36 layers, spill 15.2%\n"
     ]
    }
   ],
   "source": [
    "large_sheet = (250,160)\n",
    "guestroom_folder.fold(large_sheet)"
   ]
  },
  {
   "cell_type": "code",
   "execution_count": 17,
   "id": "8a61b25f",
   "metadata": {},
   "outputs": [
    {
     "name": "stdout",
     "output_type": "stream",
     "text": [
      "Fold 240.0 --> [2, 2, 3] --> 20.0 (12 layers)\n",
      "Fold 200.0 --> [2, 2] --> 50.0 (4 layers)\n",
      "48 layers, spill 23.7%\n"
     ]
    }
   ],
   "source": [
    "xlarge_sheet = (240,200)\n",
    "guestroom_folder.fold(xlarge_sheet)"
   ]
  },
  {
   "cell_type": "code",
   "execution_count": 4,
   "id": "116500c9",
   "metadata": {},
   "outputs": [
    {
     "name": "stdout",
     "output_type": "stream",
     "text": [
      "Fold 250.0 --> [2, 2, 3] --> 20.8 (12 layers)\n",
      "Fold 140.0 --> [3] --> 46.7 (3 layers)\n",
      "36 layers, spill 25.8%\n"
     ]
    }
   ],
   "source": [
    "small_sheet = (250,140)\n",
    "guestroom_folder.fold(small_sheet)"
   ]
  },
  {
   "cell_type": "code",
   "execution_count": 5,
   "id": "25c5ff31",
   "metadata": {},
   "outputs": [
    {
     "name": "stdout",
     "output_type": "stream",
     "text": [
      "Fold 200.0 --> [3, 3] --> 22.2 (9 layers)\n",
      "Fold 140.0 --> [3] --> 46.7 (3 layers)\n",
      "27 layers, spill 20.9%\n"
     ]
    }
   ],
   "source": [
    "duvet_cover = (200,140)\n",
    "guestroom_folder.fold(duvet_cover)"
   ]
  },
  {
   "cell_type": "code",
   "execution_count": 6,
   "id": "933c865f",
   "metadata": {},
   "outputs": [
    {
     "name": "stdout",
     "output_type": "stream",
     "text": [
      "Fold 210.0 --> [2, 2] --> 52.5 (4 layers)\n",
      "Fold 105.0 --> [2, 3] --> 17.5 (6 layers)\n",
      "24 layers, spill 29.9%\n"
     ]
    }
   ],
   "source": [
    "elastic_sheet = (210,105)\n",
    "guestroom_folder.fold(elastic_sheet)"
   ]
  },
  {
   "cell_type": "markdown",
   "id": "e83a14df",
   "metadata": {},
   "source": [
    "## Sovrum"
   ]
  },
  {
   "cell_type": "code",
   "execution_count": 7,
   "id": "c544505e",
   "metadata": {},
   "outputs": [
    {
     "name": "stdout",
     "output_type": "stream",
     "text": [
      "Drawer: (57, 28)  Folds: [2, 3, 5]\n"
     ]
    }
   ],
   "source": [
    "drawer = (57, 28)\n",
    "my_folds = [2, 3, 5]\n",
    "bedroom_folder = SheetFolder(drawer, my_folds)\n",
    "print(bedroom_folder)"
   ]
  },
  {
   "cell_type": "code",
   "execution_count": 8,
   "id": "7ffea54a",
   "metadata": {},
   "outputs": [
    {
     "name": "stdout",
     "output_type": "stream",
     "text": [
      "Fold 110.0 --> [2] --> 55.0 (2 layers)\n",
      "Fold 67.0 --> [3] --> 22.3 (3 layers)\n",
      "6 layers, spill 23.0%\n"
     ]
    }
   ],
   "source": [
    "bath_towel = (110,67)\n",
    "bedroom_folder.fold(bath_towel)"
   ]
  },
  {
   "cell_type": "code",
   "execution_count": 9,
   "id": "fa4e16b7",
   "metadata": {},
   "outputs": [
    {
     "name": "stdout",
     "output_type": "stream",
     "text": [
      "Fold 130.0 --> [3] --> 43.3 (3 layers)\n",
      "Fold 65.0 --> [3] --> 21.7 (3 layers)\n",
      "9 layers, spill 41.2%\n"
     ]
    }
   ],
   "source": [
    "bath_towel_large = (130,65)\n",
    "bedroom_folder.fold(bath_towel_large)"
   ]
  },
  {
   "cell_type": "code",
   "execution_count": 10,
   "id": "dbae57f0",
   "metadata": {},
   "outputs": [
    {
     "name": "stdout",
     "output_type": "stream",
     "text": [
      "Fold 74.0 --> [3] --> 24.7 (3 layers)\n",
      "Fold 51.0 --> [] --> 51.0 (1 layers)\n",
      "3 layers, spill 21.2%\n"
     ]
    }
   ],
   "source": [
    "bath_mat = (74,51)\n",
    "bedroom_folder.fold(bath_mat)"
   ]
  },
  {
   "cell_type": "code",
   "execution_count": 11,
   "id": "0473f029",
   "metadata": {},
   "outputs": [
    {
     "name": "stdout",
     "output_type": "stream",
     "text": [
      "Fold 100.0 --> [2] --> 50.0 (2 layers)\n",
      "Fold 60.0 --> [3] --> 20.0 (3 layers)\n",
      "6 layers, spill 37.3%\n"
     ]
    }
   ],
   "source": [
    "white_towel = (100,60)\n",
    "bedroom_folder.fold(white_towel)"
   ]
  },
  {
   "cell_type": "markdown",
   "id": "75123edb",
   "metadata": {},
   "source": [
    "## Diverse"
   ]
  },
  {
   "cell_type": "code",
   "execution_count": 12,
   "id": "4e333894",
   "metadata": {},
   "outputs": [
    {
     "name": "stdout",
     "output_type": "stream",
     "text": [
      "Drawer: (50, 40)  Folds: [2, 3]\n"
     ]
    }
   ],
   "source": [
    "bag = (50, 40)\n",
    "my_folds = [2, 3]\n",
    "bag_folder = SheetFolder(bag, my_folds)\n",
    "print(bag_folder)"
   ]
  },
  {
   "cell_type": "code",
   "execution_count": 13,
   "id": "5ad1eb35",
   "metadata": {},
   "outputs": [
    {
     "name": "stdout",
     "output_type": "stream",
     "text": [
      "Fold 250.0 --> [2, 3] --> 41.7 (6 layers)\n",
      "Fold 160.0 --> [2, 2] --> 40.0 (4 layers)\n",
      "24 layers, spill 16.7%\n"
     ]
    }
   ],
   "source": [
    "bag_folder.fold(large_sheet)"
   ]
  },
  {
   "cell_type": "code",
   "execution_count": 14,
   "id": "7b233f7e",
   "metadata": {},
   "outputs": [
    {
     "name": "stdout",
     "output_type": "stream",
     "text": [
      "Fold 250.0 --> [2, 3] --> 41.7 (6 layers)\n",
      "Fold 140.0 --> [2, 2] --> 35.0 (4 layers)\n",
      "24 layers, spill 27.1%\n"
     ]
    }
   ],
   "source": [
    "bag_folder.fold(small_sheet)"
   ]
  },
  {
   "cell_type": "code",
   "execution_count": 15,
   "id": "e0f1dd3f",
   "metadata": {},
   "outputs": [
    {
     "name": "stdout",
     "output_type": "stream",
     "text": [
      "Fold 240.0 --> [2, 3] --> 40.0 (6 layers)\n",
      "Fold 140.0 --> [3] --> 46.7 (3 layers)\n",
      "18 layers, spill 6.7%\n"
     ]
    }
   ],
   "source": [
    "embroidered_sheet = (240, 140)\n",
    "bag_folder.fold(embroidered_sheet)"
   ]
  },
  {
   "cell_type": "code",
   "execution_count": 19,
   "id": "e2bec769",
   "metadata": {},
   "outputs": [
    {
     "name": "stdout",
     "output_type": "stream",
     "text": [
      "Fold 200.0 --> [2, 2] --> 50.0 (4 layers)\n",
      "Fold 140.0 --> [3] --> 46.7 (3 layers)\n",
      "12 layers, spill 26.9%\n"
     ]
    }
   ],
   "source": [
    "full_shelf_folder = SheetFolder((57,56), my_folds)\n",
    "full_shelf_folder.fold(duvet_cover)"
   ]
  }
 ],
 "metadata": {
  "kernelspec": {
   "display_name": "Python 3 (ipykernel)",
   "language": "python",
   "name": "python3"
  },
  "language_info": {
   "codemirror_mode": {
    "name": "ipython",
    "version": 3
   },
   "file_extension": ".py",
   "mimetype": "text/x-python",
   "name": "python",
   "nbconvert_exporter": "python",
   "pygments_lexer": "ipython3",
   "version": "3.9.12"
  }
 },
 "nbformat": 4,
 "nbformat_minor": 5
}
